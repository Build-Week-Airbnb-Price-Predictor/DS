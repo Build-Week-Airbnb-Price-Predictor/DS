{
  "nbformat": 4,
  "nbformat_minor": 0,
  "metadata": {
    "colab": {
      "name": "Airbnb price predictor",
      "provenance": [],
      "collapsed_sections": []
    },
    "kernelspec": {
      "name": "python3",
      "display_name": "Python 3"
    }
  },
  "cells": [
    {
      "cell_type": "code",
      "metadata": {
        "id": "C6_1XiaQTXha"
      },
      "source": [
        "import pandas as pd\r\n",
        "df = pd.read_csv(\"/content/listings_london.csv\")"
      ],
      "execution_count": 62,
      "outputs": []
    },
    {
      "cell_type": "code",
      "metadata": {
        "id": "32fPHo4bVq7Y"
      },
      "source": [
        "#!unzip listings.csv.zip"
      ],
      "execution_count": 63,
      "outputs": []
    },
    {
      "cell_type": "code",
      "metadata": {
        "id": "uoziKJHxUgwk"
      },
      "source": [
        "#with open('listings.csv.gz', 'rb') as fd:\r\n",
        "    #gzip_fd = gzip.GzipFile(fileobj=fd)\r\n",
        "    #df = pd.read_csv(gzip_fd)"
      ],
      "execution_count": 64,
      "outputs": []
    },
    {
      "cell_type": "code",
      "metadata": {
        "colab": {
          "base_uri": "https://localhost:8080/",
          "height": 425
        },
        "id": "SvADpLTUV0a7",
        "outputId": "1bbd63be-5ea8-4642-d64d-44d34edc9c5e"
      },
      "source": [
        "df.head(3)"
      ],
      "execution_count": 65,
      "outputs": [
        {
          "output_type": "execute_result",
          "data": {
            "text/html": [
              "<div>\n",
              "<style scoped>\n",
              "    .dataframe tbody tr th:only-of-type {\n",
              "        vertical-align: middle;\n",
              "    }\n",
              "\n",
              "    .dataframe tbody tr th {\n",
              "        vertical-align: top;\n",
              "    }\n",
              "\n",
              "    .dataframe thead th {\n",
              "        text-align: right;\n",
              "    }\n",
              "</style>\n",
              "<table border=\"1\" class=\"dataframe\">\n",
              "  <thead>\n",
              "    <tr style=\"text-align: right;\">\n",
              "      <th></th>\n",
              "      <th>id</th>\n",
              "      <th>listing_url</th>\n",
              "      <th>scrape_id</th>\n",
              "      <th>last_scraped</th>\n",
              "      <th>name</th>\n",
              "      <th>description</th>\n",
              "      <th>neighborhood_overview</th>\n",
              "      <th>picture_url</th>\n",
              "      <th>host_id</th>\n",
              "      <th>host_url</th>\n",
              "      <th>host_name</th>\n",
              "      <th>host_since</th>\n",
              "      <th>host_location</th>\n",
              "      <th>host_about</th>\n",
              "      <th>host_response_time</th>\n",
              "      <th>host_response_rate</th>\n",
              "      <th>host_acceptance_rate</th>\n",
              "      <th>host_is_superhost</th>\n",
              "      <th>host_thumbnail_url</th>\n",
              "      <th>host_picture_url</th>\n",
              "      <th>host_neighbourhood</th>\n",
              "      <th>host_listings_count</th>\n",
              "      <th>host_total_listings_count</th>\n",
              "      <th>host_verifications</th>\n",
              "      <th>host_has_profile_pic</th>\n",
              "      <th>host_identity_verified</th>\n",
              "      <th>neighbourhood</th>\n",
              "      <th>neighbourhood_cleansed</th>\n",
              "      <th>neighbourhood_group_cleansed</th>\n",
              "      <th>latitude</th>\n",
              "      <th>longitude</th>\n",
              "      <th>property_type</th>\n",
              "      <th>room_type</th>\n",
              "      <th>accommodates</th>\n",
              "      <th>bathrooms</th>\n",
              "      <th>bathrooms_text</th>\n",
              "      <th>bedrooms</th>\n",
              "      <th>beds</th>\n",
              "      <th>amenities</th>\n",
              "      <th>price</th>\n",
              "      <th>minimum_nights</th>\n",
              "      <th>maximum_nights</th>\n",
              "      <th>minimum_minimum_nights</th>\n",
              "      <th>maximum_minimum_nights</th>\n",
              "      <th>minimum_maximum_nights</th>\n",
              "      <th>maximum_maximum_nights</th>\n",
              "      <th>minimum_nights_avg_ntm</th>\n",
              "      <th>maximum_nights_avg_ntm</th>\n",
              "      <th>calendar_updated</th>\n",
              "      <th>has_availability</th>\n",
              "      <th>availability_30</th>\n",
              "      <th>availability_60</th>\n",
              "      <th>availability_90</th>\n",
              "      <th>availability_365</th>\n",
              "      <th>calendar_last_scraped</th>\n",
              "      <th>number_of_reviews</th>\n",
              "      <th>number_of_reviews_ltm</th>\n",
              "      <th>number_of_reviews_l30d</th>\n",
              "      <th>first_review</th>\n",
              "      <th>last_review</th>\n",
              "      <th>review_scores_rating</th>\n",
              "      <th>review_scores_accuracy</th>\n",
              "      <th>review_scores_cleanliness</th>\n",
              "      <th>review_scores_checkin</th>\n",
              "      <th>review_scores_communication</th>\n",
              "      <th>review_scores_location</th>\n",
              "      <th>review_scores_value</th>\n",
              "      <th>license</th>\n",
              "      <th>instant_bookable</th>\n",
              "      <th>calculated_host_listings_count</th>\n",
              "      <th>calculated_host_listings_count_entire_homes</th>\n",
              "      <th>calculated_host_listings_count_private_rooms</th>\n",
              "      <th>calculated_host_listings_count_shared_rooms</th>\n",
              "      <th>reviews_per_month</th>\n",
              "    </tr>\n",
              "  </thead>\n",
              "  <tbody>\n",
              "    <tr>\n",
              "      <th>0</th>\n",
              "      <td>11551</td>\n",
              "      <td>https://www.airbnb.com/rooms/11551</td>\n",
              "      <td>20201106040109</td>\n",
              "      <td>2020-11-07</td>\n",
              "      <td>Arty and Bright London Apartment in Zone 2</td>\n",
              "      <td>Unlike most rental apartments out there my fla...</td>\n",
              "      <td>Not even 10 minutes by metro from Victoria Sta...</td>\n",
              "      <td>https://a0.muscache.com/pictures/b7afccf4-18e5...</td>\n",
              "      <td>43039</td>\n",
              "      <td>https://www.airbnb.com/users/show/43039</td>\n",
              "      <td>Adriano</td>\n",
              "      <td>2009-10-03</td>\n",
              "      <td>London, England, United Kingdom</td>\n",
              "      <td>Hello, I'm a friendly Italian man with a very ...</td>\n",
              "      <td>within an hour</td>\n",
              "      <td>100%</td>\n",
              "      <td>100%</td>\n",
              "      <td>f</td>\n",
              "      <td>https://a0.muscache.com/im/pictures/user/47773...</td>\n",
              "      <td>https://a0.muscache.com/im/pictures/user/47773...</td>\n",
              "      <td>Brixton</td>\n",
              "      <td>3.0</td>\n",
              "      <td>3.0</td>\n",
              "      <td>['email', 'phone', 'reviews', 'jumio', 'offlin...</td>\n",
              "      <td>t</td>\n",
              "      <td>t</td>\n",
              "      <td>London, United Kingdom</td>\n",
              "      <td>Lambeth</td>\n",
              "      <td>NaN</td>\n",
              "      <td>51.46225</td>\n",
              "      <td>-0.11732</td>\n",
              "      <td>Entire apartment</td>\n",
              "      <td>Entire home/apt</td>\n",
              "      <td>4</td>\n",
              "      <td>NaN</td>\n",
              "      <td>1 bath</td>\n",
              "      <td>1.0</td>\n",
              "      <td>3.0</td>\n",
              "      <td>[\"Cable TV\", \"Coffee maker\", \"Carbon monoxide ...</td>\n",
              "      <td>$97.00</td>\n",
              "      <td>7</td>\n",
              "      <td>190</td>\n",
              "      <td>7</td>\n",
              "      <td>28</td>\n",
              "      <td>1125</td>\n",
              "      <td>1125</td>\n",
              "      <td>8.4</td>\n",
              "      <td>1125.0</td>\n",
              "      <td>NaN</td>\n",
              "      <td>t</td>\n",
              "      <td>0</td>\n",
              "      <td>0</td>\n",
              "      <td>4</td>\n",
              "      <td>279</td>\n",
              "      <td>2020-11-07</td>\n",
              "      <td>192</td>\n",
              "      <td>7</td>\n",
              "      <td>0</td>\n",
              "      <td>2010-03-21</td>\n",
              "      <td>2020-03-26</td>\n",
              "      <td>91.0</td>\n",
              "      <td>9.0</td>\n",
              "      <td>9.0</td>\n",
              "      <td>10.0</td>\n",
              "      <td>10.0</td>\n",
              "      <td>9.0</td>\n",
              "      <td>9.0</td>\n",
              "      <td>NaN</td>\n",
              "      <td>t</td>\n",
              "      <td>2</td>\n",
              "      <td>2</td>\n",
              "      <td>0</td>\n",
              "      <td>0</td>\n",
              "      <td>1.48</td>\n",
              "    </tr>\n",
              "    <tr>\n",
              "      <th>1</th>\n",
              "      <td>13913</td>\n",
              "      <td>https://www.airbnb.com/rooms/13913</td>\n",
              "      <td>20201106040109</td>\n",
              "      <td>2020-11-07</td>\n",
              "      <td>Holiday London DB Room Let-on going</td>\n",
              "      <td>My bright double bedroom with a large window h...</td>\n",
              "      <td>Finsbury Park is a friendly melting pot commun...</td>\n",
              "      <td>https://a0.muscache.com/pictures/miso/Hosting-...</td>\n",
              "      <td>54730</td>\n",
              "      <td>https://www.airbnb.com/users/show/54730</td>\n",
              "      <td>Alina</td>\n",
              "      <td>2009-11-16</td>\n",
              "      <td>London, England, United Kingdom</td>\n",
              "      <td>I am a Multi-Media Visual Artist and Creative ...</td>\n",
              "      <td>within a day</td>\n",
              "      <td>83%</td>\n",
              "      <td>71%</td>\n",
              "      <td>f</td>\n",
              "      <td>https://a0.muscache.com/im/users/54730/profile...</td>\n",
              "      <td>https://a0.muscache.com/im/users/54730/profile...</td>\n",
              "      <td>LB of Islington</td>\n",
              "      <td>3.0</td>\n",
              "      <td>3.0</td>\n",
              "      <td>['email', 'phone', 'facebook', 'reviews', 'off...</td>\n",
              "      <td>t</td>\n",
              "      <td>t</td>\n",
              "      <td>Islington, Greater London, United Kingdom</td>\n",
              "      <td>Islington</td>\n",
              "      <td>NaN</td>\n",
              "      <td>51.56802</td>\n",
              "      <td>-0.11121</td>\n",
              "      <td>Private room in apartment</td>\n",
              "      <td>Private room</td>\n",
              "      <td>2</td>\n",
              "      <td>NaN</td>\n",
              "      <td>1 shared bath</td>\n",
              "      <td>1.0</td>\n",
              "      <td>0.0</td>\n",
              "      <td>[\"Cable TV\", \"Bed linens\", \"Coffee maker\", \"Pa...</td>\n",
              "      <td>$40.00</td>\n",
              "      <td>1</td>\n",
              "      <td>29</td>\n",
              "      <td>1</td>\n",
              "      <td>28</td>\n",
              "      <td>29</td>\n",
              "      <td>29</td>\n",
              "      <td>2.8</td>\n",
              "      <td>29.0</td>\n",
              "      <td>NaN</td>\n",
              "      <td>t</td>\n",
              "      <td>30</td>\n",
              "      <td>60</td>\n",
              "      <td>90</td>\n",
              "      <td>365</td>\n",
              "      <td>2020-11-07</td>\n",
              "      <td>21</td>\n",
              "      <td>2</td>\n",
              "      <td>0</td>\n",
              "      <td>2010-08-18</td>\n",
              "      <td>2020-02-22</td>\n",
              "      <td>97.0</td>\n",
              "      <td>10.0</td>\n",
              "      <td>10.0</td>\n",
              "      <td>10.0</td>\n",
              "      <td>10.0</td>\n",
              "      <td>9.0</td>\n",
              "      <td>9.0</td>\n",
              "      <td>NaN</td>\n",
              "      <td>f</td>\n",
              "      <td>2</td>\n",
              "      <td>1</td>\n",
              "      <td>1</td>\n",
              "      <td>0</td>\n",
              "      <td>0.17</td>\n",
              "    </tr>\n",
              "    <tr>\n",
              "      <th>2</th>\n",
              "      <td>15400</td>\n",
              "      <td>https://www.airbnb.com/rooms/15400</td>\n",
              "      <td>20201106040109</td>\n",
              "      <td>2020-11-07</td>\n",
              "      <td>Bright Chelsea  Apartment. Chelsea!</td>\n",
              "      <td>Lots of windows and light.  St Luke's Gardens ...</td>\n",
              "      <td>It is Chelsea.</td>\n",
              "      <td>https://a0.muscache.com/pictures/428392/462d26...</td>\n",
              "      <td>60302</td>\n",
              "      <td>https://www.airbnb.com/users/show/60302</td>\n",
              "      <td>Philippa</td>\n",
              "      <td>2009-12-05</td>\n",
              "      <td>Kensington, England, United Kingdom</td>\n",
              "      <td>English, grandmother,  I have travelled quite ...</td>\n",
              "      <td>within a day</td>\n",
              "      <td>100%</td>\n",
              "      <td>100%</td>\n",
              "      <td>f</td>\n",
              "      <td>https://a0.muscache.com/im/users/60302/profile...</td>\n",
              "      <td>https://a0.muscache.com/im/users/60302/profile...</td>\n",
              "      <td>Chelsea</td>\n",
              "      <td>1.0</td>\n",
              "      <td>1.0</td>\n",
              "      <td>['email', 'phone', 'reviews', 'jumio', 'govern...</td>\n",
              "      <td>t</td>\n",
              "      <td>t</td>\n",
              "      <td>London, United Kingdom</td>\n",
              "      <td>Kensington and Chelsea</td>\n",
              "      <td>NaN</td>\n",
              "      <td>51.48796</td>\n",
              "      <td>-0.16898</td>\n",
              "      <td>Entire apartment</td>\n",
              "      <td>Entire home/apt</td>\n",
              "      <td>2</td>\n",
              "      <td>NaN</td>\n",
              "      <td>1 bath</td>\n",
              "      <td>1.0</td>\n",
              "      <td>1.0</td>\n",
              "      <td>[\"Cable TV\", \"Coffee maker\", \"Dryer\", \"Dishes ...</td>\n",
              "      <td>$75.00</td>\n",
              "      <td>10</td>\n",
              "      <td>50</td>\n",
              "      <td>10</td>\n",
              "      <td>28</td>\n",
              "      <td>50</td>\n",
              "      <td>50</td>\n",
              "      <td>11.2</td>\n",
              "      <td>50.0</td>\n",
              "      <td>NaN</td>\n",
              "      <td>t</td>\n",
              "      <td>0</td>\n",
              "      <td>20</td>\n",
              "      <td>50</td>\n",
              "      <td>150</td>\n",
              "      <td>2020-11-07</td>\n",
              "      <td>89</td>\n",
              "      <td>1</td>\n",
              "      <td>0</td>\n",
              "      <td>2009-12-21</td>\n",
              "      <td>2020-03-16</td>\n",
              "      <td>96.0</td>\n",
              "      <td>10.0</td>\n",
              "      <td>10.0</td>\n",
              "      <td>10.0</td>\n",
              "      <td>10.0</td>\n",
              "      <td>10.0</td>\n",
              "      <td>9.0</td>\n",
              "      <td>NaN</td>\n",
              "      <td>t</td>\n",
              "      <td>1</td>\n",
              "      <td>1</td>\n",
              "      <td>0</td>\n",
              "      <td>0</td>\n",
              "      <td>0.67</td>\n",
              "    </tr>\n",
              "  </tbody>\n",
              "</table>\n",
              "</div>"
            ],
            "text/plain": [
              "      id  ... reviews_per_month\n",
              "0  11551  ...              1.48\n",
              "1  13913  ...              0.17\n",
              "2  15400  ...              0.67\n",
              "\n",
              "[3 rows x 74 columns]"
            ]
          },
          "metadata": {
            "tags": []
          },
          "execution_count": 65
        }
      ]
    },
    {
      "cell_type": "code",
      "metadata": {
        "colab": {
          "base_uri": "https://localhost:8080/"
        },
        "id": "IFDGGNwcWA0t",
        "outputId": "677c8474-4185-4d0f-e5a5-9bafdb38458f"
      },
      "source": [
        "df.shape"
      ],
      "execution_count": 66,
      "outputs": [
        {
          "output_type": "execute_result",
          "data": {
            "text/plain": [
              "(76984, 74)"
            ]
          },
          "metadata": {
            "tags": []
          },
          "execution_count": 66
        }
      ]
    },
    {
      "cell_type": "code",
      "metadata": {
        "id": "kW5d7iKSSrGV"
      },
      "source": [
        ""
      ],
      "execution_count": 66,
      "outputs": []
    },
    {
      "cell_type": "code",
      "metadata": {
        "id": "zJW6vSI8Syxs"
      },
      "source": [
        "import pandas as pd\n",
        "import numpy as np\n",
        "from sklearn.impute import SimpleImputer\n",
        "import joblib\n",
        "from joblib import dump\n",
        "import scipy"
      ],
      "execution_count": 67,
      "outputs": []
    },
    {
      "cell_type": "code",
      "metadata": {
        "colab": {
          "base_uri": "https://localhost:8080/"
        },
        "id": "EhOXVha9TCla",
        "outputId": "1ec9535e-465d-49c9-a7ba-a2fee988999f"
      },
      "source": [
        "!pip install category_encoders"
      ],
      "execution_count": 68,
      "outputs": [
        {
          "output_type": "stream",
          "text": [
            "Requirement already satisfied: category_encoders in /usr/local/lib/python3.6/dist-packages (2.2.2)\n",
            "Requirement already satisfied: scipy>=1.0.0 in /usr/local/lib/python3.6/dist-packages (from category_encoders) (1.4.1)\n",
            "Requirement already satisfied: patsy>=0.5.1 in /usr/local/lib/python3.6/dist-packages (from category_encoders) (0.5.1)\n",
            "Requirement already satisfied: statsmodels>=0.9.0 in /usr/local/lib/python3.6/dist-packages (from category_encoders) (0.10.2)\n",
            "Requirement already satisfied: scikit-learn>=0.20.0 in /usr/local/lib/python3.6/dist-packages (from category_encoders) (0.22.2.post1)\n",
            "Requirement already satisfied: pandas>=0.21.1 in /usr/local/lib/python3.6/dist-packages (from category_encoders) (1.1.5)\n",
            "Requirement already satisfied: numpy>=1.14.0 in /usr/local/lib/python3.6/dist-packages (from category_encoders) (1.19.4)\n",
            "Requirement already satisfied: six in /usr/local/lib/python3.6/dist-packages (from patsy>=0.5.1->category_encoders) (1.15.0)\n",
            "Requirement already satisfied: joblib>=0.11 in /usr/local/lib/python3.6/dist-packages (from scikit-learn>=0.20.0->category_encoders) (1.0.0)\n",
            "Requirement already satisfied: pytz>=2017.2 in /usr/local/lib/python3.6/dist-packages (from pandas>=0.21.1->category_encoders) (2018.9)\n",
            "Requirement already satisfied: python-dateutil>=2.7.3 in /usr/local/lib/python3.6/dist-packages (from pandas>=0.21.1->category_encoders) (2.8.1)\n"
          ],
          "name": "stdout"
        }
      ]
    },
    {
      "cell_type": "code",
      "metadata": {
        "id": "3SrIvSShTMAa"
      },
      "source": [
        "import category_encoders as ce\r\n",
        "from sklearn.compose import ColumnTransformer\r\n",
        "from sklearn.pipeline import Pipeline\r\n",
        "from sklearn.preprocessing import StandardScaler, OrdinalEncoder\r\n",
        "from sklearn.model_selection import train_test_split\r\n"
      ],
      "execution_count": 69,
      "outputs": []
    },
    {
      "cell_type": "code",
      "metadata": {
        "colab": {
          "base_uri": "https://localhost:8080/"
        },
        "id": "T--Nit4kTTgJ",
        "outputId": "e084f8f0-d87c-493f-9514-c5eea65ac635"
      },
      "source": [
        "df['bathrooms'].isna().sum()"
      ],
      "execution_count": 70,
      "outputs": [
        {
          "output_type": "execute_result",
          "data": {
            "text/plain": [
              "76984"
            ]
          },
          "metadata": {
            "tags": []
          },
          "execution_count": 70
        }
      ]
    },
    {
      "cell_type": "code",
      "metadata": {
        "id": "qzE-k73PTXZw"
      },
      "source": [
        "df['bathrooms'] = df['bathrooms'].fillna(0)"
      ],
      "execution_count": 71,
      "outputs": []
    },
    {
      "cell_type": "code",
      "metadata": {
        "colab": {
          "base_uri": "https://localhost:8080/"
        },
        "id": "df1txmJxTb6J",
        "outputId": "b049f061-ced9-4b0c-a864-78eaabb67473"
      },
      "source": [
        "df['bathrooms'].isna().sum()"
      ],
      "execution_count": 72,
      "outputs": [
        {
          "output_type": "execute_result",
          "data": {
            "text/plain": [
              "0"
            ]
          },
          "metadata": {
            "tags": []
          },
          "execution_count": 72
        }
      ]
    },
    {
      "cell_type": "code",
      "metadata": {
        "colab": {
          "base_uri": "https://localhost:8080/"
        },
        "id": "MWZShC9TTkQ3",
        "outputId": "ae66e80a-da05-4be8-f29e-942d3859a562"
      },
      "source": [
        "df['bathrooms'].unique()"
      ],
      "execution_count": 73,
      "outputs": [
        {
          "output_type": "execute_result",
          "data": {
            "text/plain": [
              "array([0.])"
            ]
          },
          "metadata": {
            "tags": []
          },
          "execution_count": 73
        }
      ]
    },
    {
      "cell_type": "code",
      "metadata": {
        "id": "xdDXaZodTqQQ"
      },
      "source": [
        "df['bathrooms'] = df['bathrooms'].replace('t', 0)"
      ],
      "execution_count": 74,
      "outputs": []
    },
    {
      "cell_type": "code",
      "metadata": {
        "colab": {
          "base_uri": "https://localhost:8080/"
        },
        "id": "X2OLJOSUTuue",
        "outputId": "00673027-019a-404f-a561-8a1e22b32b14"
      },
      "source": [
        "df['bathrooms'].unique()"
      ],
      "execution_count": 75,
      "outputs": [
        {
          "output_type": "execute_result",
          "data": {
            "text/plain": [
              "array([0.])"
            ]
          },
          "metadata": {
            "tags": []
          },
          "execution_count": 75
        }
      ]
    },
    {
      "cell_type": "code",
      "metadata": {
        "id": "1DqHGCfwT1SD"
      },
      "source": [
        "df['bathrooms'] = df['bathrooms'].astype('float')"
      ],
      "execution_count": 76,
      "outputs": []
    },
    {
      "cell_type": "code",
      "metadata": {
        "colab": {
          "base_uri": "https://localhost:8080/"
        },
        "id": "9ouFWiH2T5SB",
        "outputId": "91152562-3502-4948-da66-81702eeb0742"
      },
      "source": [
        "df['bathrooms'].dtypes"
      ],
      "execution_count": 77,
      "outputs": [
        {
          "output_type": "execute_result",
          "data": {
            "text/plain": [
              "dtype('float64')"
            ]
          },
          "metadata": {
            "tags": []
          },
          "execution_count": 77
        }
      ]
    },
    {
      "cell_type": "code",
      "metadata": {
        "colab": {
          "base_uri": "https://localhost:8080/"
        },
        "id": "b3BiGD78VJBp",
        "outputId": "56a172a6-61c5-4264-8b34-3c6fccc8b634"
      },
      "source": [
        "df['number_of_reviews'].unique()"
      ],
      "execution_count": 78,
      "outputs": [
        {
          "output_type": "execute_result",
          "data": {
            "text/plain": [
              "array([192,  21,  89,  42,   0, 129,   6,  79, 528,  52,  55, 137, 366,\n",
              "        36,  10,  84,  71,   2, 167, 197, 107,  35,  11,   1, 102, 373,\n",
              "        66, 121,  54,   7,  39, 100,  25, 451, 187, 128,  29,  74,  56,\n",
              "       157,  65, 142,  13, 134,  90,   8, 213, 190,  61,  30,  82,   5,\n",
              "       415,  97, 173,  86,  46,   9,  69, 342,  37, 212, 181,  23,  41,\n",
              "       136,  70, 297,  33,  78,  91,  34,  64, 124,  73, 109,   4,  27,\n",
              "       337, 473, 478, 407,   3,  22,  58, 229, 202,  19, 123,  57,  53,\n",
              "       103,  43,  98,  45, 161,  85, 175,  18, 147, 149,  17, 180,  51,\n",
              "        15, 172, 152, 163, 220, 316,  47,  50,  63,  16, 480, 210, 201,\n",
              "       209, 135, 282,  40, 380, 244, 221, 484,  60, 119, 189,  94, 106,\n",
              "       139, 274, 110,  20,  62, 108, 223,  24, 343,  32, 159, 430,  44,\n",
              "       122,  77,  95, 218,  96, 336,  14,  88, 241,  87,  83, 301,  76,\n",
              "       390,  92,  26, 266, 166, 170, 105, 230, 126, 169, 429, 340,  28,\n",
              "       160,  48, 214,  12, 257, 146,  68,  99, 168, 582,  75, 251, 270,\n",
              "       125, 516, 242, 265, 433, 158,  49, 143, 140, 481, 114, 193, 325,\n",
              "       287,  31, 151, 101, 144, 211, 130,  80, 198, 155, 133,  67, 145,\n",
              "       117, 176, 191, 260, 141, 326,  38, 188,  93, 371,  72, 196, 240,\n",
              "       365, 113, 112, 165, 243, 115, 550, 222, 148, 131, 204, 224, 277,\n",
              "       177, 247, 120, 238, 104, 232, 174, 275, 308, 296, 156, 309,  59,\n",
              "       379, 205, 465, 231, 206, 650, 127, 388, 245, 432, 111, 254, 227,\n",
              "       250, 262, 333, 302, 329, 306, 330, 217, 252, 118, 256, 239, 400,\n",
              "       273, 494, 393, 575, 237, 195, 283, 208, 300, 207, 360, 292, 228,\n",
              "       409, 184, 182, 116, 185, 269, 299, 279, 216, 272, 278, 370, 138,\n",
              "       150, 276, 226, 132, 359, 233, 362, 631, 215, 267, 200, 560,  81,\n",
              "       236, 246, 813, 711, 225, 183, 219, 186, 178, 294, 389, 323, 361,\n",
              "       463, 523, 164, 648, 194, 255, 280, 553, 264, 519, 249, 490, 179,\n",
              "       437, 557, 253, 235, 332, 438, 327, 317, 162, 153, 344, 298, 339,\n",
              "       171, 375, 305, 288, 641, 258, 203, 303, 394, 460, 385, 538, 285,\n",
              "       261, 322, 421, 486, 234, 315, 435, 564, 529, 314, 350, 499, 508,\n",
              "       402, 154, 268, 310, 307, 351, 399, 295, 355, 199, 335, 290, 313,\n",
              "       444, 319, 248, 363, 456, 263, 321, 286, 284, 357, 324, 312, 568,\n",
              "       439, 470, 413])"
            ]
          },
          "metadata": {
            "tags": []
          },
          "execution_count": 78
        }
      ]
    },
    {
      "cell_type": "code",
      "metadata": {
        "id": "lA-92O4XVOkA"
      },
      "source": [
        ""
      ],
      "execution_count": 78,
      "outputs": []
    },
    {
      "cell_type": "code",
      "metadata": {
        "id": "CeKFm9q4VUx6"
      },
      "source": [
        ""
      ],
      "execution_count": 78,
      "outputs": []
    },
    {
      "cell_type": "code",
      "metadata": {
        "id": "xHqbCOeKVY4a"
      },
      "source": [
        "df['number_of_reviews'] = df['number_of_reviews'].fillna(0)"
      ],
      "execution_count": 79,
      "outputs": []
    },
    {
      "cell_type": "code",
      "metadata": {
        "id": "MItWpbNAVfV2"
      },
      "source": [
        "df['number_of_reviews'] = df['number_of_reviews'].astype('int')"
      ],
      "execution_count": 80,
      "outputs": []
    },
    {
      "cell_type": "code",
      "metadata": {
        "colab": {
          "base_uri": "https://localhost:8080/"
        },
        "id": "dgfga1ydVkld",
        "outputId": "a1eeb10a-c966-4ef8-831d-42c0d86912b0"
      },
      "source": [
        "df['number_of_reviews'].dtypes"
      ],
      "execution_count": 81,
      "outputs": [
        {
          "output_type": "execute_result",
          "data": {
            "text/plain": [
              "dtype('int64')"
            ]
          },
          "metadata": {
            "tags": []
          },
          "execution_count": 81
        }
      ]
    },
    {
      "cell_type": "code",
      "metadata": {
        "id": "vbVolkYOW6Jh"
      },
      "source": [
        "df['price'] = df['price'].fillna(0)"
      ],
      "execution_count": 82,
      "outputs": []
    },
    {
      "cell_type": "code",
      "metadata": {
        "id": "r64sy0R5W_gM"
      },
      "source": [
        "def clean_currency(x):\r\n",
        "    \"\"\" If the value is a string, then remove currency symbol and delimiters\r\n",
        "    otherwise, the value is numeric and can be converted\r\n",
        "    \"\"\"\r\n",
        "    if isinstance(x, str):\r\n",
        "        return(x.replace('$', '').replace(',', ''))\r\n",
        "    return(x)"
      ],
      "execution_count": 83,
      "outputs": []
    },
    {
      "cell_type": "code",
      "metadata": {
        "id": "_g2r4aBdXE99"
      },
      "source": [
        "df['price'] = df['price'].apply(clean_currency).astype('float')"
      ],
      "execution_count": 84,
      "outputs": []
    },
    {
      "cell_type": "code",
      "metadata": {
        "colab": {
          "base_uri": "https://localhost:8080/"
        },
        "id": "FllRshE4XJcR",
        "outputId": "aa2cd52d-8b90-4158-9d0a-10b915b38ced"
      },
      "source": [
        "df['price'].dtypes"
      ],
      "execution_count": 85,
      "outputs": [
        {
          "output_type": "execute_result",
          "data": {
            "text/plain": [
              "dtype('float64')"
            ]
          },
          "metadata": {
            "tags": []
          },
          "execution_count": 85
        }
      ]
    },
    {
      "cell_type": "code",
      "metadata": {
        "id": "pBzibZb-XVs7"
      },
      "source": [
        "\r\n",
        "df['host_response_rate'] = df['host_response_rate'].fillna(0)"
      ],
      "execution_count": 86,
      "outputs": []
    },
    {
      "cell_type": "code",
      "metadata": {
        "colab": {
          "base_uri": "https://localhost:8080/"
        },
        "id": "qakio-O2c1lO",
        "outputId": "7f62b15b-9871-4819-93a5-02e9e5d96a66"
      },
      "source": [
        "df['host_response_rate'].unique()"
      ],
      "execution_count": 87,
      "outputs": [
        {
          "output_type": "execute_result",
          "data": {
            "text/plain": [
              "array(['100%', '83%', '67%', 0, '0%', '50%', '57%', '70%', '80%', '90%',\n",
              "       '75%', '96%', '73%', '89%', '44%', '40%', '71%', '60%', '43%',\n",
              "       '33%', '85%', '92%', '86%', '25%', '17%', '30%', '22%', '98%',\n",
              "       '88%', '56%', '94%', '79%', '36%', '95%', '87%', '63%', '97%',\n",
              "       '93%', '29%', '64%', '91%', '72%', '82%', '20%', '81%', '78%',\n",
              "       '8%', '38%', '61%', '99%', '18%', '14%', '10%', '68%', '76%',\n",
              "       '53%', '59%', '9%', '77%', '84%', '23%', '62%', '45%', '6%', '13%',\n",
              "       '69%', '74%', '46%', '65%', '58%', '41%', '2%', '55%', '4%', '54%',\n",
              "       '31%', '11%', '7%', '47%'], dtype=object)"
            ]
          },
          "metadata": {
            "tags": []
          },
          "execution_count": 87
        }
      ]
    },
    {
      "cell_type": "code",
      "metadata": {
        "id": "TCu06EL4c3xd"
      },
      "source": [
        "df['host_response_rate'] = df['host_response_rate'].apply(lambda x: float(x.strip('%'))/100 if isinstance(x, str) else x )"
      ],
      "execution_count": 88,
      "outputs": []
    },
    {
      "cell_type": "code",
      "metadata": {
        "id": "w6-H7jorekwl"
      },
      "source": [
        "df['description_len'] = df.description.astype(str).apply(lambda x: len(x))"
      ],
      "execution_count": 89,
      "outputs": []
    },
    {
      "cell_type": "code",
      "metadata": {
        "id": "0eM8v1R3XvIR"
      },
      "source": [
        "var_drop = ['id',\t'listing_url',\t'scrape_id', \t'last_scraped',\t'name', 'description',\t'neighborhood_overview',\t'picture_url','host_id', 'host_url',\t'host_name',\r\n",
        "            'host_since',\t'host_location',\t'host_about',\t'host_response_time',\t'host_acceptance_rate',\t'host_is_superhost',\r\n",
        "            'host_thumbnail_url',\t'host_picture_url',\t'host_neighbourhood',\t'host_listings_count',\t'host_total_listings_count',\r\n",
        "            'host_verifications',\t'host_has_profile_pic',\t'host_identity_verified',\t'neighbourhood',\t'neighbourhood_cleansed',\t'neighbourhood_group_cleansed',\r\n",
        "            'latitude',\t'longitude',\t'room_type',\t'bathrooms_text',\t'amenities','minimum_nights',\t'maximum_nights',\r\n",
        "            'minimum_minimum_nights',\t'maximum_minimum_nights',\t'minimum_maximum_nights',\t'maximum_maximum_nights',\t'minimum_nights_avg_ntm',\r\n",
        "            'maximum_nights_avg_ntm',\t'calendar_updated',\t'has_availability',\t'availability_30',\t'availability_60',\t'availability_90',\t'availability_365',\r\n",
        "            'calendar_last_scraped',\t'number_of_reviews_ltm',\t'number_of_reviews_l30d',\t'first_review',\t'last_review',\t'review_scores_rating',\r\n",
        "            \t'review_scores_accuracy',\t'review_scores_cleanliness',\t'review_scores_checkin',\t'review_scores_communication',\t'review_scores_location',\r\n",
        "            \t'review_scores_value',\t'license',\t'instant_bookable',\t'calculated_host_listings_count',\t'calculated_host_listings_count_entire_homes',\r\n",
        "            \t'calculated_host_listings_count_private_rooms',\t'calculated_host_listings_count_shared_rooms',\t'reviews_per_month']\r\n",
        "            \t\r\n"
      ],
      "execution_count": 90,
      "outputs": []
    },
    {
      "cell_type": "code",
      "metadata": {
        "id": "AjX2PhcudSCL"
      },
      "source": [
        "def wrangle(X):\r\n",
        "    \"\"\"Wrangle everything in the same way\"\"\"\r\n",
        "    \r\n",
        "    # Prevent SettingWithCopyWarning\r\n",
        "    X = X.copy()\r\n",
        "\r\n",
        "    # Drop the columns with 0 feature importance\r\n",
        "    more_variance = []\r\n",
        "\r\n",
        "    X = X.drop(columns=var_drop)\r\n",
        "\r\n",
        "    \r\n",
        "\r\n",
        "    # Engineer features!\r\n",
        "    \r\n",
        "    # return the wrangled dataframe\r\n",
        "    return X\r\n",
        "\r\n",
        "df2 = wrangle(df)"
      ],
      "execution_count": 91,
      "outputs": []
    },
    {
      "cell_type": "code",
      "metadata": {
        "colab": {
          "base_uri": "https://localhost:8080/"
        },
        "id": "cye0tmNaeKk2",
        "outputId": "5d70c2b4-0035-4a8c-88f5-17c8f006a9f5"
      },
      "source": [
        "for col in df2.columns:\r\n",
        "  print(col)\r\n",
        "print(df2.shape)"
      ],
      "execution_count": 92,
      "outputs": [
        {
          "output_type": "stream",
          "text": [
            "host_response_rate\n",
            "property_type\n",
            "accommodates\n",
            "bathrooms\n",
            "bedrooms\n",
            "beds\n",
            "price\n",
            "number_of_reviews\n",
            "description_len\n",
            "(76984, 9)\n"
          ],
          "name": "stdout"
        }
      ]
    },
    {
      "cell_type": "code",
      "metadata": {
        "colab": {
          "base_uri": "https://localhost:8080/",
          "height": 195
        },
        "id": "Bc5cZvkIeSkp",
        "outputId": "f5d37b6f-a5af-47a5-9e77-4c4dfef0df2a"
      },
      "source": [
        "df2.head()"
      ],
      "execution_count": 93,
      "outputs": [
        {
          "output_type": "execute_result",
          "data": {
            "text/html": [
              "<div>\n",
              "<style scoped>\n",
              "    .dataframe tbody tr th:only-of-type {\n",
              "        vertical-align: middle;\n",
              "    }\n",
              "\n",
              "    .dataframe tbody tr th {\n",
              "        vertical-align: top;\n",
              "    }\n",
              "\n",
              "    .dataframe thead th {\n",
              "        text-align: right;\n",
              "    }\n",
              "</style>\n",
              "<table border=\"1\" class=\"dataframe\">\n",
              "  <thead>\n",
              "    <tr style=\"text-align: right;\">\n",
              "      <th></th>\n",
              "      <th>host_response_rate</th>\n",
              "      <th>property_type</th>\n",
              "      <th>accommodates</th>\n",
              "      <th>bathrooms</th>\n",
              "      <th>bedrooms</th>\n",
              "      <th>beds</th>\n",
              "      <th>price</th>\n",
              "      <th>number_of_reviews</th>\n",
              "      <th>description_len</th>\n",
              "    </tr>\n",
              "  </thead>\n",
              "  <tbody>\n",
              "    <tr>\n",
              "      <th>0</th>\n",
              "      <td>1.00</td>\n",
              "      <td>Entire apartment</td>\n",
              "      <td>4</td>\n",
              "      <td>0.0</td>\n",
              "      <td>1.0</td>\n",
              "      <td>3.0</td>\n",
              "      <td>97.0</td>\n",
              "      <td>192</td>\n",
              "      <td>1000</td>\n",
              "    </tr>\n",
              "    <tr>\n",
              "      <th>1</th>\n",
              "      <td>0.83</td>\n",
              "      <td>Private room in apartment</td>\n",
              "      <td>2</td>\n",
              "      <td>0.0</td>\n",
              "      <td>1.0</td>\n",
              "      <td>0.0</td>\n",
              "      <td>40.0</td>\n",
              "      <td>21</td>\n",
              "      <td>1000</td>\n",
              "    </tr>\n",
              "    <tr>\n",
              "      <th>2</th>\n",
              "      <td>1.00</td>\n",
              "      <td>Entire apartment</td>\n",
              "      <td>2</td>\n",
              "      <td>0.0</td>\n",
              "      <td>1.0</td>\n",
              "      <td>1.0</td>\n",
              "      <td>75.0</td>\n",
              "      <td>89</td>\n",
              "      <td>1000</td>\n",
              "    </tr>\n",
              "    <tr>\n",
              "      <th>3</th>\n",
              "      <td>0.67</td>\n",
              "      <td>Entire apartment</td>\n",
              "      <td>6</td>\n",
              "      <td>0.0</td>\n",
              "      <td>3.0</td>\n",
              "      <td>3.0</td>\n",
              "      <td>307.0</td>\n",
              "      <td>42</td>\n",
              "      <td>1000</td>\n",
              "    </tr>\n",
              "    <tr>\n",
              "      <th>4</th>\n",
              "      <td>0.00</td>\n",
              "      <td>Private room in bed and breakfast</td>\n",
              "      <td>2</td>\n",
              "      <td>0.0</td>\n",
              "      <td>1.0</td>\n",
              "      <td>1.0</td>\n",
              "      <td>150.0</td>\n",
              "      <td>0</td>\n",
              "      <td>777</td>\n",
              "    </tr>\n",
              "  </tbody>\n",
              "</table>\n",
              "</div>"
            ],
            "text/plain": [
              "   host_response_rate  ... description_len\n",
              "0                1.00  ...            1000\n",
              "1                0.83  ...            1000\n",
              "2                1.00  ...            1000\n",
              "3                0.67  ...            1000\n",
              "4                0.00  ...             777\n",
              "\n",
              "[5 rows x 9 columns]"
            ]
          },
          "metadata": {
            "tags": []
          },
          "execution_count": 93
        }
      ]
    },
    {
      "cell_type": "code",
      "metadata": {
        "colab": {
          "base_uri": "https://localhost:8080/"
        },
        "id": "3Uc8AqqWeyQJ",
        "outputId": "b038e564-83c0-4e8c-e932-64611f4a7810"
      },
      "source": [
        "df2.info()"
      ],
      "execution_count": 94,
      "outputs": [
        {
          "output_type": "stream",
          "text": [
            "<class 'pandas.core.frame.DataFrame'>\n",
            "RangeIndex: 76984 entries, 0 to 76983\n",
            "Data columns (total 9 columns):\n",
            " #   Column              Non-Null Count  Dtype  \n",
            "---  ------              --------------  -----  \n",
            " 0   host_response_rate  76984 non-null  float64\n",
            " 1   property_type       76984 non-null  object \n",
            " 2   accommodates        76984 non-null  int64  \n",
            " 3   bathrooms           76984 non-null  float64\n",
            " 4   bedrooms            72238 non-null  float64\n",
            " 5   beds                75904 non-null  float64\n",
            " 6   price               76984 non-null  float64\n",
            " 7   number_of_reviews   76984 non-null  int64  \n",
            " 8   description_len     76984 non-null  int64  \n",
            "dtypes: float64(5), int64(3), object(1)\n",
            "memory usage: 5.3+ MB\n"
          ],
          "name": "stdout"
        }
      ]
    },
    {
      "cell_type": "code",
      "metadata": {
        "id": "fhUCsLNqe4po"
      },
      "source": [
        "x = df2.drop(columns='price')\r\n",
        "y = df2['price']\r\n",
        "x3 = x[[ 'bathrooms', 'bedrooms', 'beds', 'property_type',\r\n",
        "        'number_of_reviews', \r\n",
        "        'description_len', 'accommodates']].copy()\r\n"
      ],
      "execution_count": 95,
      "outputs": []
    },
    {
      "cell_type": "code",
      "metadata": {
        "colab": {
          "base_uri": "https://localhost:8080/",
          "height": 195
        },
        "id": "QRLtuqALf7D5",
        "outputId": "236a6172-ee20-494a-e0df-f2410b01261f"
      },
      "source": [
        "x3.head()"
      ],
      "execution_count": 96,
      "outputs": [
        {
          "output_type": "execute_result",
          "data": {
            "text/html": [
              "<div>\n",
              "<style scoped>\n",
              "    .dataframe tbody tr th:only-of-type {\n",
              "        vertical-align: middle;\n",
              "    }\n",
              "\n",
              "    .dataframe tbody tr th {\n",
              "        vertical-align: top;\n",
              "    }\n",
              "\n",
              "    .dataframe thead th {\n",
              "        text-align: right;\n",
              "    }\n",
              "</style>\n",
              "<table border=\"1\" class=\"dataframe\">\n",
              "  <thead>\n",
              "    <tr style=\"text-align: right;\">\n",
              "      <th></th>\n",
              "      <th>bathrooms</th>\n",
              "      <th>bedrooms</th>\n",
              "      <th>beds</th>\n",
              "      <th>property_type</th>\n",
              "      <th>number_of_reviews</th>\n",
              "      <th>description_len</th>\n",
              "      <th>accommodates</th>\n",
              "    </tr>\n",
              "  </thead>\n",
              "  <tbody>\n",
              "    <tr>\n",
              "      <th>0</th>\n",
              "      <td>0.0</td>\n",
              "      <td>1.0</td>\n",
              "      <td>3.0</td>\n",
              "      <td>Entire apartment</td>\n",
              "      <td>192</td>\n",
              "      <td>1000</td>\n",
              "      <td>4</td>\n",
              "    </tr>\n",
              "    <tr>\n",
              "      <th>1</th>\n",
              "      <td>0.0</td>\n",
              "      <td>1.0</td>\n",
              "      <td>0.0</td>\n",
              "      <td>Private room in apartment</td>\n",
              "      <td>21</td>\n",
              "      <td>1000</td>\n",
              "      <td>2</td>\n",
              "    </tr>\n",
              "    <tr>\n",
              "      <th>2</th>\n",
              "      <td>0.0</td>\n",
              "      <td>1.0</td>\n",
              "      <td>1.0</td>\n",
              "      <td>Entire apartment</td>\n",
              "      <td>89</td>\n",
              "      <td>1000</td>\n",
              "      <td>2</td>\n",
              "    </tr>\n",
              "    <tr>\n",
              "      <th>3</th>\n",
              "      <td>0.0</td>\n",
              "      <td>3.0</td>\n",
              "      <td>3.0</td>\n",
              "      <td>Entire apartment</td>\n",
              "      <td>42</td>\n",
              "      <td>1000</td>\n",
              "      <td>6</td>\n",
              "    </tr>\n",
              "    <tr>\n",
              "      <th>4</th>\n",
              "      <td>0.0</td>\n",
              "      <td>1.0</td>\n",
              "      <td>1.0</td>\n",
              "      <td>Private room in bed and breakfast</td>\n",
              "      <td>0</td>\n",
              "      <td>777</td>\n",
              "      <td>2</td>\n",
              "    </tr>\n",
              "  </tbody>\n",
              "</table>\n",
              "</div>"
            ],
            "text/plain": [
              "   bathrooms  bedrooms  beds  ... number_of_reviews  description_len  accommodates\n",
              "0        0.0       1.0   3.0  ...               192             1000             4\n",
              "1        0.0       1.0   0.0  ...                21             1000             2\n",
              "2        0.0       1.0   1.0  ...                89             1000             2\n",
              "3        0.0       3.0   3.0  ...                42             1000             6\n",
              "4        0.0       1.0   1.0  ...                 0              777             2\n",
              "\n",
              "[5 rows x 7 columns]"
            ]
          },
          "metadata": {
            "tags": []
          },
          "execution_count": 96
        }
      ]
    },
    {
      "cell_type": "code",
      "metadata": {
        "id": "fa8xE2R6gGxB"
      },
      "source": [
        "numeric_features = ['accommodates', 'bathrooms', 'bedrooms', 'beds', 'number_of_reviews',\r\n",
        "                     'description_len',]\r\n",
        "numeric_transformer = Pipeline(steps=[\r\n",
        "    ('imputer', SimpleImputer(strategy='median')),\r\n",
        "    ('scaler', StandardScaler())])"
      ],
      "execution_count": 97,
      "outputs": []
    },
    {
      "cell_type": "code",
      "metadata": {
        "id": "v-3hAD0GgsyZ"
      },
      "source": [
        "categorical_features = ['property_type']\r\n",
        "categorical_transformer = Pipeline(steps=[\r\n",
        "    ('imputer', SimpleImputer(strategy='constant', fill_value='missing')),\r\n",
        "    ('ordinal', OrdinalEncoder())])"
      ],
      "execution_count": 98,
      "outputs": []
    },
    {
      "cell_type": "code",
      "metadata": {
        "id": "qzB8XcoCg7RH"
      },
      "source": [
        "preprocessor = ColumnTransformer(\r\n",
        "    transformers=[\r\n",
        "        ('num', numeric_transformer, numeric_features),\r\n",
        "        ('cat', categorical_transformer, categorical_features)])\r\n",
        "\r\n",
        "X_train, X_test, y_train, y_test = train_test_split(x3, y, test_size=0.2)\r\n",
        "\r\n",
        "X_tra = preprocessor.fit_transform(X_train)\r\n",
        "\r\n",
        "X_tes = preprocessor.fit_transform(X_test)\r\n"
      ],
      "execution_count": 99,
      "outputs": []
    },
    {
      "cell_type": "code",
      "metadata": {
        "id": "i4T7HaMehBuL"
      },
      "source": [
        "import category_encoders as ce\r\n",
        "from sklearn.impute import SimpleImputer\r\n",
        "from sklearn.ensemble import RandomForestClassifier\r\n",
        "from sklearn.model_selection import train_test_split\r\n",
        "from sklearn.pipeline import make_pipeline\r\n",
        "from xgboost import XGBRegressor\r\n",
        "import matplotlib.pyplot as plt\r\n",
        "from sklearn.preprocessing import Normalizer\r\n",
        "from sklearn.preprocessing import StandardScaler\r\n",
        "from sklearn.linear_model import LinearRegression\r\n"
      ],
      "execution_count": 100,
      "outputs": []
    },
    {
      "cell_type": "code",
      "metadata": {
        "id": "KaVtMXq6hD50"
      },
      "source": [
        "reg = LinearRegression(n_jobs=-1)\r\n",
        "\r\n",
        "reg.fit(X_tra, y_train)\r\n",
        "\r\n",
        "y_pred = reg.predict(X_tes)\r\n"
      ],
      "execution_count": 101,
      "outputs": []
    },
    {
      "cell_type": "code",
      "metadata": {
        "colab": {
          "base_uri": "https://localhost:8080/"
        },
        "id": "EYhuUvPUhLnv",
        "outputId": "8f9833a9-1887-49ad-db2b-f8ca5beed9b7"
      },
      "source": [
        "type(y_test)"
      ],
      "execution_count": 102,
      "outputs": [
        {
          "output_type": "execute_result",
          "data": {
            "text/plain": [
              "pandas.core.series.Series"
            ]
          },
          "metadata": {
            "tags": []
          },
          "execution_count": 102
        }
      ]
    },
    {
      "cell_type": "code",
      "metadata": {
        "colab": {
          "base_uri": "https://localhost:8080/"
        },
        "id": "s8A_F7tshPtY",
        "outputId": "902194f0-156c-4984-c932-d1350eea92ff"
      },
      "source": [
        "type(y_pred)"
      ],
      "execution_count": 103,
      "outputs": [
        {
          "output_type": "execute_result",
          "data": {
            "text/plain": [
              "numpy.ndarray"
            ]
          },
          "metadata": {
            "tags": []
          },
          "execution_count": 103
        }
      ]
    },
    {
      "cell_type": "code",
      "metadata": {
        "id": "HHxI_LyGhUzS"
      },
      "source": [
        "from sklearn.metrics import mean_absolute_error as mae\r\n",
        "from sklearn.metrics import r2_score as r2"
      ],
      "execution_count": 104,
      "outputs": []
    },
    {
      "cell_type": "code",
      "metadata": {
        "colab": {
          "base_uri": "https://localhost:8080/"
        },
        "id": "gGotspcQhZ2J",
        "outputId": "90d6f033-8149-40bb-f0cb-32b62fc5ad05"
      },
      "source": [
        "mae(y_test, y_pred)"
      ],
      "execution_count": 105,
      "outputs": [
        {
          "output_type": "execute_result",
          "data": {
            "text/plain": [
              "60.39819340350519"
            ]
          },
          "metadata": {
            "tags": []
          },
          "execution_count": 105
        }
      ]
    },
    {
      "cell_type": "code",
      "metadata": {
        "colab": {
          "base_uri": "https://localhost:8080/"
        },
        "id": "nKFwEfVPheH2",
        "outputId": "7aa611f7-e1c9-47d9-d396-54db5de88091"
      },
      "source": [
        "r2(y_test, y_pred)"
      ],
      "execution_count": 106,
      "outputs": [
        {
          "output_type": "execute_result",
          "data": {
            "text/plain": [
              "0.0408213336952894"
            ]
          },
          "metadata": {
            "tags": []
          },
          "execution_count": 106
        }
      ]
    },
    {
      "cell_type": "code",
      "metadata": {
        "colab": {
          "base_uri": "https://localhost:8080/"
        },
        "id": "Km6HOsG9hi43",
        "outputId": "73917e85-1536-4485-981c-0bf242d54837"
      },
      "source": [
        "from joblib import dump\r\n",
        "dump(reg, 'pickle_reg2.joblib', compress=True)"
      ],
      "execution_count": 107,
      "outputs": [
        {
          "output_type": "execute_result",
          "data": {
            "text/plain": [
              "['pickle_reg2.joblib']"
            ]
          },
          "metadata": {
            "tags": []
          },
          "execution_count": 107
        }
      ]
    },
    {
      "cell_type": "code",
      "metadata": {
        "colab": {
          "base_uri": "https://localhost:8080/"
        },
        "id": "i2UfddoYhnTN",
        "outputId": "61f0142d-034c-4f23-86d2-9a50584b93e0"
      },
      "source": [
        "dump(preprocessor, 'preprocessor2.pkl')"
      ],
      "execution_count": 108,
      "outputs": [
        {
          "output_type": "execute_result",
          "data": {
            "text/plain": [
              "['preprocessor2.pkl']"
            ]
          },
          "metadata": {
            "tags": []
          },
          "execution_count": 108
        }
      ]
    },
    {
      "cell_type": "code",
      "metadata": {
        "id": "hcsxfxVOhrvy"
      },
      "source": [
        "order = OrdinalEncoder(categories=categorical_features)"
      ],
      "execution_count": 109,
      "outputs": []
    },
    {
      "cell_type": "code",
      "metadata": {
        "colab": {
          "base_uri": "https://localhost:8080/"
        },
        "id": "ncQ_H4iYhyGo",
        "outputId": "6de2574f-54c6-4529-db45-0d10a224acb4"
      },
      "source": [
        "order.categories\r\n",
        "\r\n",
        "pipe3 = make_pipeline(\r\n",
        "    order,\r\n",
        "    LinearRegression()\r\n",
        ")\r\n",
        "\r\n",
        "dump(pipe3, 'pipe4.joblib', compress=True)"
      ],
      "execution_count": 110,
      "outputs": [
        {
          "output_type": "execute_result",
          "data": {
            "text/plain": [
              "['pipe4.joblib']"
            ]
          },
          "metadata": {
            "tags": []
          },
          "execution_count": 110
        }
      ]
    }
  ]
}